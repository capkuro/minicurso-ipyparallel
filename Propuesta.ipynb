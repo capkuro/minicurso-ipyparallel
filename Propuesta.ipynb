{
 "cells": [
  {
   "cell_type": "code",
   "execution_count": 3,
   "metadata": {},
   "outputs": [],
   "source": [
    "import numpy as np\n",
    "from tqdm import tqdm_notebook\n",
    "import itertools"
   ]
  },
  {
   "cell_type": "code",
   "execution_count": 4,
   "metadata": {},
   "outputs": [],
   "source": [
    "N = 90\n",
    "k = N-1\n",
    "covmat = np.random.rand(N,N)\n",
    "covmat[[range(0,N)],[range(0,N)]] = N\n",
    "arr = list(range(0,N))\n",
    "#covmat"
   ]
  },
  {
   "cell_type": "code",
   "execution_count": 5,
   "metadata": {},
   "outputs": [],
   "source": [
    "#arr"
   ]
  },
  {
   "cell_type": "code",
   "execution_count": 6,
   "metadata": {},
   "outputs": [],
   "source": [
    "covmat = 0.5*(covmat+covmat)"
   ]
  },
  {
   "cell_type": "code",
   "execution_count": 5,
   "metadata": {},
   "outputs": [],
   "source": [
    "from ipyparallel import Client\n",
    "rc = Client(profile='pucv-cluster')\n",
    "rc.purge_everything()"
   ]
  },
  {
   "cell_type": "code",
   "execution_count": 6,
   "metadata": {},
   "outputs": [
    {
     "data": {
      "text/plain": [
       "<ipyparallel.client.client.Client at 0x7f67700649e8>"
      ]
     },
     "execution_count": 6,
     "metadata": {},
     "output_type": "execute_result"
    }
   ],
   "source": [
    "rc"
   ]
  },
  {
   "cell_type": "code",
   "execution_count": 7,
   "metadata": {},
   "outputs": [
    {
     "data": {
      "text/plain": [
       "[0,\n",
       " 1,\n",
       " 2,\n",
       " 3,\n",
       " 4,\n",
       " 5,\n",
       " 6,\n",
       " 7,\n",
       " 8,\n",
       " 9,\n",
       " 10,\n",
       " 11,\n",
       " 12,\n",
       " 13,\n",
       " 14,\n",
       " 15,\n",
       " 16,\n",
       " 17,\n",
       " 18,\n",
       " 19,\n",
       " 20,\n",
       " 21,\n",
       " 22,\n",
       " 23,\n",
       " 24,\n",
       " 25,\n",
       " 26,\n",
       " 27,\n",
       " 28,\n",
       " 29,\n",
       " 30,\n",
       " 31,\n",
       " 32,\n",
       " 33,\n",
       " 34,\n",
       " 35,\n",
       " 36,\n",
       " 37,\n",
       " 38,\n",
       " 39,\n",
       " 40,\n",
       " 41,\n",
       " 42,\n",
       " 43,\n",
       " 44,\n",
       " 45,\n",
       " 46,\n",
       " 47,\n",
       " 48,\n",
       " 49,\n",
       " 50,\n",
       " 51,\n",
       " 52,\n",
       " 53,\n",
       " 54,\n",
       " 55,\n",
       " 56,\n",
       " 57,\n",
       " 58]"
      ]
     },
     "execution_count": 7,
     "metadata": {},
     "output_type": "execute_result"
    }
   ],
   "source": [
    "rc.ids"
   ]
  },
  {
   "cell_type": "code",
   "execution_count": 8,
   "metadata": {},
   "outputs": [],
   "source": [
    "dview = rc[:] # use all engines"
   ]
  },
  {
   "cell_type": "code",
   "execution_count": 9,
   "metadata": {},
   "outputs": [],
   "source": [
    "dview['covmat'] = covmat"
   ]
  },
  {
   "cell_type": "code",
   "execution_count": 10,
   "metadata": {},
   "outputs": [],
   "source": [
    "dview.block = True\n",
    "#dview.pull('covmat', targets=0)"
   ]
  },
  {
   "cell_type": "code",
   "execution_count": 11,
   "metadata": {},
   "outputs": [
    {
     "data": {
      "text/plain": [
       "'N//'"
      ]
     },
     "execution_count": 11,
     "metadata": {},
     "output_type": "execute_result"
    }
   ],
   "source": [
    "\"\"\"N//\"\"\""
   ]
  },
  {
   "cell_type": "code",
   "execution_count": 7,
   "metadata": {},
   "outputs": [],
   "source": [
    "sub_mat_n = N//2\n",
    "hola = itertools.combinations(arr, sub_mat_n)"
   ]
  },
  {
   "cell_type": "code",
   "execution_count": 8,
   "metadata": {},
   "outputs": [
    {
     "name": "stdout",
     "output_type": "stream",
     "text": [
      "1.0382742128755342e+26 1759786801483956263685935\n"
     ]
    }
   ],
   "source": [
    "from math import factorial\n",
    "n_el = N\n",
    "\n",
    "n = factorial(n_el) / factorial(sub_mat_n) / factorial(n_el-sub_mat_n)\n",
    "n_per_process = int(n)//59#len(rc.ids) \n",
    "\n",
    "print(n,n_per_process)"
   ]
  },
  {
   "cell_type": "code",
   "execution_count": 14,
   "metadata": {},
   "outputs": [],
   "source": [
    "from itertools import islice, chain\n",
    "\n",
    "def batch(iterable, size):\n",
    "    sourceiter = iter(iterable)\n",
    "    while True:\n",
    "        batchiter = islice(sourceiter, size)\n",
    "        yield chain([next(batchiter)], batchiter)"
   ]
  },
  {
   "cell_type": "code",
   "execution_count": 15,
   "metadata": {},
   "outputs": [],
   "source": [
    "indexes = []\n",
    "for i in range(len(rc.ids)):\n",
    "    batchiter = islice(hola, int(round(n/len(rc.ids),0)))\n",
    "    ind = chain([next(batchiter)], batchiter)\n",
    "    indexes.append(ind)\n",
    "#for el in hola2:\n",
    "#    print(el)"
   ]
  },
  {
   "cell_type": "code",
   "execution_count": 16,
   "metadata": {},
   "outputs": [
    {
     "data": {
      "text/plain": [
       "[<itertools.chain at 0x7f6756bebda0>,\n",
       " <itertools.chain at 0x7f6756bebe10>,\n",
       " <itertools.chain at 0x7f6756bebe80>,\n",
       " <itertools.chain at 0x7f6756bebef0>,\n",
       " <itertools.chain at 0x7f6756bebf60>,\n",
       " <itertools.chain at 0x7f6756bebfd0>,\n",
       " <itertools.chain at 0x7f6756bfa080>,\n",
       " <itertools.chain at 0x7f6756bfa0f0>,\n",
       " <itertools.chain at 0x7f6756bfa160>,\n",
       " <itertools.chain at 0x7f6756bfa1d0>,\n",
       " <itertools.chain at 0x7f6756bfa240>,\n",
       " <itertools.chain at 0x7f6756bfa2b0>,\n",
       " <itertools.chain at 0x7f6756bfa320>,\n",
       " <itertools.chain at 0x7f6756bfa390>,\n",
       " <itertools.chain at 0x7f6756bfa400>,\n",
       " <itertools.chain at 0x7f6756bfa470>,\n",
       " <itertools.chain at 0x7f6756bfa4e0>,\n",
       " <itertools.chain at 0x7f6756bfa550>,\n",
       " <itertools.chain at 0x7f6756bfa5c0>,\n",
       " <itertools.chain at 0x7f6756bfa630>,\n",
       " <itertools.chain at 0x7f6756bfa6a0>,\n",
       " <itertools.chain at 0x7f6756bfa710>,\n",
       " <itertools.chain at 0x7f6756bfa780>,\n",
       " <itertools.chain at 0x7f6756bfa7f0>,\n",
       " <itertools.chain at 0x7f6756bfa860>,\n",
       " <itertools.chain at 0x7f6756bfa8d0>,\n",
       " <itertools.chain at 0x7f6756bfa940>,\n",
       " <itertools.chain at 0x7f6756bfa9b0>,\n",
       " <itertools.chain at 0x7f6756bfaa20>,\n",
       " <itertools.chain at 0x7f6756bfaa90>,\n",
       " <itertools.chain at 0x7f6756bfab00>,\n",
       " <itertools.chain at 0x7f6756bfab70>,\n",
       " <itertools.chain at 0x7f6756bfabe0>,\n",
       " <itertools.chain at 0x7f6756bfac50>,\n",
       " <itertools.chain at 0x7f6756bfacc0>,\n",
       " <itertools.chain at 0x7f6756bfad30>,\n",
       " <itertools.chain at 0x7f6756bfada0>,\n",
       " <itertools.chain at 0x7f6756bfae10>,\n",
       " <itertools.chain at 0x7f6756bfae80>,\n",
       " <itertools.chain at 0x7f6756bfaef0>,\n",
       " <itertools.chain at 0x7f6756bfaf60>,\n",
       " <itertools.chain at 0x7f6756bfafd0>,\n",
       " <itertools.chain at 0x7f6756bf9080>,\n",
       " <itertools.chain at 0x7f6756bf90f0>,\n",
       " <itertools.chain at 0x7f6756bf9160>,\n",
       " <itertools.chain at 0x7f6756bf91d0>,\n",
       " <itertools.chain at 0x7f6756bf9240>,\n",
       " <itertools.chain at 0x7f6756bf92b0>,\n",
       " <itertools.chain at 0x7f6756bf9320>,\n",
       " <itertools.chain at 0x7f6756bf9390>,\n",
       " <itertools.chain at 0x7f6756bf9400>,\n",
       " <itertools.chain at 0x7f6756bf9470>,\n",
       " <itertools.chain at 0x7f6756bf94e0>,\n",
       " <itertools.chain at 0x7f6756bf9550>,\n",
       " <itertools.chain at 0x7f6756bf95c0>,\n",
       " <itertools.chain at 0x7f6756bf9630>,\n",
       " <itertools.chain at 0x7f6756bf96a0>,\n",
       " <itertools.chain at 0x7f6756bf9710>,\n",
       " <itertools.chain at 0x7f6756bf9780>]"
      ]
     },
     "execution_count": 16,
     "metadata": {},
     "output_type": "execute_result"
    }
   ],
   "source": [
    "indexes"
   ]
  },
  {
   "cell_type": "code",
   "execution_count": 17,
   "metadata": {},
   "outputs": [],
   "source": [
    "dview.scatter('index_mat',indexes)"
   ]
  },
  {
   "cell_type": "code",
   "execution_count": 18,
   "metadata": {},
   "outputs": [
    {
     "name": "stdout",
     "output_type": "stream",
     "text": [
      "importing numpy on engine(s)\n"
     ]
    }
   ],
   "source": [
    "with dview.sync_imports():\n",
    "    import numpy"
   ]
  },
  {
   "cell_type": "code",
   "execution_count": 19,
   "metadata": {},
   "outputs": [],
   "source": [
    "def det(N):\n",
    "    dets = numpy.zeros(N,dtype=numpy.float32)\n",
    "    #dets = []\n",
    "    idx_mat = index_mat[0]\n",
    "    i=0\n",
    "    for ind in idx_mat:\n",
    "        idx = list(ind)\n",
    "        matrix = covmat[idx][:,idx]\n",
    "        dets[i] = numpy.linalg.det(matrix)\n",
    "        i+=1\n",
    "        #dets.append(numpy.linalg.det(matrix))\n",
    "    return dets"
   ]
  },
  {
   "cell_type": "code",
   "execution_count": 20,
   "metadata": {},
   "outputs": [
    {
     "name": "stdout",
     "output_type": "stream",
     "text": [
      "  59/59 tasks finished after   75 s\n",
      "done\n"
     ]
    }
   ],
   "source": [
    "ar = dview.apply_async(det,int(round(n/len(rc.ids),0)))\n",
    "ar.wait_interactive()"
   ]
  },
  {
   "cell_type": "code",
   "execution_count": 21,
   "metadata": {},
   "outputs": [],
   "source": [
    "res = ar.get()"
   ]
  },
  {
   "cell_type": "code",
   "execution_count": 22,
   "metadata": {},
   "outputs": [
    {
     "data": {
      "text/plain": [
       "array([1.3966487e+22, 1.3945454e+22, 1.3927510e+22, ..., 1.3985826e+22,\n",
       "       1.3993240e+22, 1.4001013e+22], dtype=float32)"
      ]
     },
     "execution_count": 22,
     "metadata": {},
     "output_type": "execute_result"
    }
   ],
   "source": [
    "res[0]"
   ]
  },
  {
   "cell_type": "code",
   "execution_count": 23,
   "metadata": {},
   "outputs": [
    {
     "data": {
      "text/plain": [
       "155117549"
      ]
     },
     "execution_count": 23,
     "metadata": {},
     "output_type": "execute_result"
    }
   ],
   "source": [
    "aux = 0\n",
    "for el in res:\n",
    "    aux += len(el)\n",
    "    #aux += len(el)\n",
    "aux"
   ]
  },
  {
   "cell_type": "code",
   "execution_count": 24,
   "metadata": {},
   "outputs": [
    {
     "data": {
      "text/plain": [
       "2629111.0"
      ]
     },
     "execution_count": 24,
     "metadata": {},
     "output_type": "execute_result"
    }
   ],
   "source": [
    "round(n/59,0)"
   ]
  },
  {
   "cell_type": "code",
   "execution_count": 28,
   "metadata": {},
   "outputs": [],
   "source": [
    "import numpy as np\n",
    "\n",
    "dets_iterative = np.zeros(int(n))\n",
    "hola = itertools.combinations(arr, sub_mat_n)\n"
   ]
  },
  {
   "cell_type": "code",
   "execution_count": 29,
   "metadata": {},
   "outputs": [
    {
     "data": {
      "application/vnd.jupyter.widget-view+json": {
       "model_id": "f57f078294234bebbae99d66ab8223dc",
       "version_major": 2,
       "version_minor": 0
      },
      "text/plain": [
       "HBox(children=(IntProgress(value=1, bar_style='info', max=1), HTML(value='')))"
      ]
     },
     "metadata": {},
     "output_type": "display_data"
    },
    {
     "name": "stdout",
     "output_type": "stream",
     "text": [
      "\n",
      "CPU times: user 38min 19s, sys: 17.4 s, total: 38min 37s\n",
      "Wall time: 38min 7s\n"
     ]
    }
   ],
   "source": [
    "%%time\n",
    "i = 0\n",
    "for ind in tqdm_notebook(hola):\n",
    "    idx = list(ind)\n",
    "    matrix = covmat[idx][:,idx]\n",
    "    dets_iterative[i] = numpy.linalg.det(matrix)\n",
    "    i+=1"
   ]
  },
  {
   "cell_type": "code",
   "execution_count": 34,
   "metadata": {},
   "outputs": [
    {
     "data": {
      "text/plain": [
       "1.3966486414803868e+22"
      ]
     },
     "execution_count": 34,
     "metadata": {},
     "output_type": "execute_result"
    }
   ],
   "source": [
    "dets_iterative[0] "
   ]
  },
  {
   "cell_type": "code",
   "execution_count": 33,
   "metadata": {},
   "outputs": [
    {
     "data": {
      "text/plain": [
       "array([1.3966487e+22, 1.3945454e+22, 1.3927510e+22, ..., 1.3985826e+22,\n",
       "       1.3993240e+22, 1.4001013e+22], dtype=float32)"
      ]
     },
     "execution_count": 33,
     "metadata": {},
     "output_type": "execute_result"
    }
   ],
   "source": [
    "res[0]"
   ]
  },
  {
   "cell_type": "code",
   "execution_count": 35,
   "metadata": {},
   "outputs": [
    {
     "data": {
      "text/plain": [
       "{'msg_id': 'eccaa0de-3723b55a0a6dc8bc491f2763',\n",
       " 'submitted': datetime.datetime(2019, 6, 7, 0, 56, 58, 556902, tzinfo=tzutc()),\n",
       " 'started': datetime.datetime(2019, 6, 7, 0, 56, 58, 580221, tzinfo=tzutc()),\n",
       " 'completed': datetime.datetime(2019, 6, 7, 0, 58, 11, 315985, tzinfo=tzutc()),\n",
       " 'received': datetime.datetime(2019, 6, 7, 0, 58, 11, 831527, tzinfo=tzutc()),\n",
       " 'engine_uuid': '375ada9a-214b906d05999294582a4f96',\n",
       " 'engine_id': 0,\n",
       " 'follow': [],\n",
       " 'after': [],\n",
       " 'status': 'ok',\n",
       " 'execute_input': None,\n",
       " 'execute_result': None,\n",
       " 'error': None,\n",
       " 'stdout': '',\n",
       " 'stderr': '',\n",
       " 'outputs': [],\n",
       " 'data': {}}"
      ]
     },
     "execution_count": 35,
     "metadata": {},
     "output_type": "execute_result"
    }
   ],
   "source": [
    "ar.metadata[0]"
   ]
  },
  {
   "cell_type": "code",
   "execution_count": 47,
   "metadata": {},
   "outputs": [
    {
     "ename": "ValueError",
     "evalue": "array is too big; `arr.size * arr.dtype.itemsize` is larger than the maximum possible size.",
     "output_type": "error",
     "traceback": [
      "\u001b[0;31m---------------------------------------------------------------------------\u001b[0m",
      "\u001b[0;31mValueError\u001b[0m                                Traceback (most recent call last)",
      "\u001b[0;32m<ipython-input-47-9ea0521df65f>\u001b[0m in \u001b[0;36m<module>\u001b[0;34m()\u001b[0m\n\u001b[0;32m----> 1\u001b[0;31m \u001b[0mdets\u001b[0m \u001b[0;34m=\u001b[0m \u001b[0mnp\u001b[0m\u001b[0;34m.\u001b[0m\u001b[0mzeros\u001b[0m\u001b[0;34m(\u001b[0m\u001b[0;36m9033567229484759421\u001b[0m\u001b[0;34m,\u001b[0m\u001b[0mdtype\u001b[0m\u001b[0;34m=\u001b[0m\u001b[0mnp\u001b[0m\u001b[0;34m.\u001b[0m\u001b[0mfloat32\u001b[0m\u001b[0;34m)\u001b[0m\u001b[0;34m\u001b[0m\u001b[0;34m\u001b[0m\u001b[0m\n\u001b[0m\u001b[1;32m      2\u001b[0m \u001b[0;34m\u001b[0m\u001b[0m\n\u001b[1;32m      3\u001b[0m \u001b[0;32mfor\u001b[0m \u001b[0mel\u001b[0m \u001b[0;32min\u001b[0m \u001b[0mtqdm_notebook\u001b[0m\u001b[0;34m(\u001b[0m\u001b[0mdets\u001b[0m\u001b[0;34m)\u001b[0m\u001b[0;34m:\u001b[0m\u001b[0;34m\u001b[0m\u001b[0;34m\u001b[0m\u001b[0m\n\u001b[1;32m      4\u001b[0m     \u001b[0;32mpass\u001b[0m\u001b[0;34m\u001b[0m\u001b[0;34m\u001b[0m\u001b[0m\n",
      "\u001b[0;31mValueError\u001b[0m: array is too big; `arr.size * arr.dtype.itemsize` is larger than the maximum possible size."
     ]
    }
   ],
   "source": [
    "dets = np.zeros(9033567229484759421,dtype=np.float32)\n",
    "\n",
    "for el in tqdm_notebook(dets):\n",
    "    pass"
   ]
  },
  {
   "cell_type": "code",
   "execution_count": 36,
   "metadata": {},
   "outputs": [],
   "source": [
    "import pandas as pd"
   ]
  },
  {
   "cell_type": "code",
   "execution_count": 39,
   "metadata": {},
   "outputs": [
    {
     "data": {
      "text/plain": [
       "400"
      ]
     },
     "execution_count": 39,
     "metadata": {},
     "output_type": "execute_result"
    }
   ],
   "source": [
    "import numpy as np\n",
    "Cs, epsilons = pd.np.meshgrid(np.logspace(-2,3,20),[i/20 for i in range(1,21)])\n",
    "\n",
    "len(list(zip(Cs.reshape((-1,1)), epsilons.reshape((-1,1)))))"
   ]
  },
  {
   "cell_type": "code",
   "execution_count": null,
   "metadata": {},
   "outputs": [],
   "source": []
  }
 ],
 "metadata": {
  "kernelspec": {
   "display_name": "Python 3",
   "language": "python",
   "name": "python3"
  },
  "language_info": {
   "codemirror_mode": {
    "name": "ipython",
    "version": 3
   },
   "file_extension": ".py",
   "mimetype": "text/x-python",
   "name": "python",
   "nbconvert_exporter": "python",
   "pygments_lexer": "ipython3",
   "version": "3.6.7"
  }
 },
 "nbformat": 4,
 "nbformat_minor": 2
}
