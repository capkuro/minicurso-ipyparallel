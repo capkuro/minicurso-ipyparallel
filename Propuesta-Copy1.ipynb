{
 "cells": [
  {
   "cell_type": "code",
   "execution_count": 1,
   "metadata": {},
   "outputs": [],
   "source": [
    "import numpy as np\n",
    "from tqdm import tqdm_notebook\n",
    "import itertools"
   ]
  },
  {
   "cell_type": "code",
   "execution_count": 2,
   "metadata": {},
   "outputs": [],
   "source": [
    "N = 40\n",
    "k = N-1\n",
    "covmat = np.random.rand(N,N)\n",
    "covmat[[range(0,N)],[range(0,N)]] = N\n",
    "arr = list(range(0,N))\n",
    "#covmat"
   ]
  },
  {
   "cell_type": "code",
   "execution_count": 3,
   "metadata": {},
   "outputs": [],
   "source": [
    "#arr"
   ]
  },
  {
   "cell_type": "code",
   "execution_count": 4,
   "metadata": {},
   "outputs": [],
   "source": [
    "covmat = 0.5 * (covmat+covmat)"
   ]
  },
  {
   "cell_type": "code",
   "execution_count": 5,
   "metadata": {},
   "outputs": [],
   "source": [
    "from ipyparallel import Client\n",
    "rc = Client(profile='pucv-cluster')\n",
    "rc.purge_everything()"
   ]
  },
  {
   "cell_type": "code",
   "execution_count": 6,
   "metadata": {},
   "outputs": [
    {
     "data": {
      "text/plain": [
       "<ipyparallel.client.client.Client at 0x7fb07b7b28d0>"
      ]
     },
     "execution_count": 6,
     "metadata": {},
     "output_type": "execute_result"
    }
   ],
   "source": [
    "rc"
   ]
  },
  {
   "cell_type": "code",
   "execution_count": 7,
   "metadata": {},
   "outputs": [],
   "source": [
    "#rc.ids"
   ]
  },
  {
   "cell_type": "code",
   "execution_count": 8,
   "metadata": {},
   "outputs": [],
   "source": [
    "dview = rc[:] # use all engines"
   ]
  },
  {
   "cell_type": "code",
   "execution_count": 9,
   "metadata": {},
   "outputs": [],
   "source": [
    "dview['covmat'] = covmat"
   ]
  },
  {
   "cell_type": "code",
   "execution_count": 10,
   "metadata": {},
   "outputs": [],
   "source": [
    "dview.block = True\n",
    "#dview.pull('covmat', targets=0)"
   ]
  },
  {
   "cell_type": "code",
   "execution_count": 11,
   "metadata": {},
   "outputs": [
    {
     "data": {
      "text/plain": [
       "'N//'"
      ]
     },
     "execution_count": 11,
     "metadata": {},
     "output_type": "execute_result"
    }
   ],
   "source": [
    "\"\"\"N//\"\"\""
   ]
  },
  {
   "cell_type": "code",
   "execution_count": 12,
   "metadata": {},
   "outputs": [],
   "source": [
    "sub_mat_n = N//2\n",
    "hola = itertools.combinations(arr, sub_mat_n)"
   ]
  },
  {
   "cell_type": "code",
   "execution_count": 13,
   "metadata": {},
   "outputs": [
    {
     "name": "stdout",
     "output_type": "stream",
     "text": [
      "137846528820.0 2336381844\n"
     ]
    }
   ],
   "source": [
    "from math import factorial\n",
    "n_el = N\n",
    "\n",
    "n = factorial(n_el) / factorial(sub_mat_n) / factorial(n_el-sub_mat_n)\n",
    "n_per_process = int(n)//59#len(rc.ids) \n",
    "\n",
    "print(n,n_per_process)"
   ]
  },
  {
   "cell_type": "code",
   "execution_count": 14,
   "metadata": {},
   "outputs": [],
   "source": [
    "from itertools import islice, chain\n",
    "\n",
    "def batch(iterable, size):\n",
    "    sourceiter = iter(iterable)\n",
    "    while True:\n",
    "        batchiter = islice(sourceiter, size)\n",
    "        yield chain([next(batchiter)], batchiter)"
   ]
  },
  {
   "cell_type": "code",
   "execution_count": 15,
   "metadata": {},
   "outputs": [],
   "source": [
    "indexes = []\n",
    "for i in range(len(rc.ids)):\n",
    "    batchiter = islice(hola, int(round(n/len(rc.ids),0)))\n",
    "    ind = chain([next(batchiter)], batchiter)\n",
    "    indexes.append(ind)\n",
    "    \n",
    "#for el in hola2:\n",
    "#    print(el)"
   ]
  },
  {
   "cell_type": "code",
   "execution_count": 16,
   "metadata": {},
   "outputs": [],
   "source": [
    "#indexes"
   ]
  },
  {
   "cell_type": "code",
   "execution_count": 17,
   "metadata": {},
   "outputs": [],
   "source": [
    "dview.scatter('index_mat',indexes)"
   ]
  },
  {
   "cell_type": "code",
   "execution_count": 18,
   "metadata": {},
   "outputs": [],
   "source": [
    "import hashlib\n",
    "import base64\n",
    "m = hashlib.sha1()\n",
    "\n",
    "def get_hash(string):\n",
    "    m.update(string.encode())\n",
    "    return base64.urlsafe_b64encode(m.digest())\n"
   ]
  },
  {
   "cell_type": "code",
   "execution_count": 19,
   "metadata": {},
   "outputs": [],
   "source": [
    "ids_dict = {}\n",
    "for i in range(len(rc)):\n",
    "    ids_dict[i] = get_hash(str(i))\n",
    "    rc[i]['hash_id'] = ids_dict[i]\n"
   ]
  },
  {
   "cell_type": "code",
   "execution_count": 20,
   "metadata": {},
   "outputs": [
    {
     "name": "stdout",
     "output_type": "stream",
     "text": [
      "importing numpy on engine(s)\n",
      "importing os on engine(s)\n",
      "importing pickle on engine(s)\n"
     ]
    }
   ],
   "source": [
    "with dview.sync_imports():\n",
    "    import numpy\n",
    "    import os\n",
    "    import pickle"
   ]
  },
  {
   "cell_type": "code",
   "execution_count": 21,
   "metadata": {},
   "outputs": [
    {
     "data": {
      "text/plain": [
       "[b'tlifxqsNyCzxIJnRwtQKuZToQQw=',\n",
       " b'3f4WM0XTOBk6wr3Bg_jp3P-QS0M=',\n",
       " b'xKLZm8KNI2CYoJUne36wcY1r4Gg=',\n",
       " b'xLXIa9V32j2T_qfInLphx4tI5Yk=',\n",
       " b'EZBKTot39iQuLSiHBQI62tAKkxA=']"
      ]
     },
     "execution_count": 21,
     "metadata": {},
     "output_type": "execute_result"
    }
   ],
   "source": [
    "dview['hash_id'][:5]"
   ]
  },
  {
   "cell_type": "code",
   "execution_count": 22,
   "metadata": {},
   "outputs": [],
   "source": [
    "hola = dview['hash_id'][:1]"
   ]
  },
  {
   "cell_type": "code",
   "execution_count": 23,
   "metadata": {},
   "outputs": [
    {
     "data": {
      "text/plain": [
       "'tlifxqsNyCzxIJnRwtQKuZToQQw='"
      ]
     },
     "execution_count": 23,
     "metadata": {},
     "output_type": "execute_result"
    }
   ],
   "source": [
    "hola[0].decode()"
   ]
  },
  {
   "cell_type": "code",
   "execution_count": 24,
   "metadata": {},
   "outputs": [],
   "source": [
    "def det(N, level = 2):\n",
    "    dets = numpy.zeros(N,dtype=numpy.float32)\n",
    "    idx_mat = index_mat[0]\n",
    "    i=0\n",
    "    f = open(\"/home/srodriguez/res_mats/\"+ hash_id.decode() + str(level) +\".pkl\",\"wb\")\n",
    "    print(\"creado f\")\n",
    "    for ind in idx_mat:\n",
    "        idx = list(ind)\n",
    "        matrix = covmat[idx][:,idx]\n",
    "        dets[i] = numpy.linalg.det(matrix)\n",
    "        i+=1\n",
    "        #dets.append(numpy.linalg.det(matrix))\n",
    "    print(\"Salvar matriz\")\n",
    "    pickle.dump(dets,f)\n",
    "    f.close()\n",
    "    #return dets"
   ]
  },
  {
   "cell_type": "code",
   "execution_count": null,
   "metadata": {},
   "outputs": [
    {
     "name": "stdout",
     "output_type": "stream",
     "text": [
      "   0/61 tasks finished after 4916 s"
     ]
    }
   ],
   "source": [
    "ar = dview.apply_async(det,int(round(n/len(rc.ids),0)),sub_mat_n)\n",
    "ar.wait_interactive()"
   ]
  },
  {
   "cell_type": "code",
   "execution_count": null,
   "metadata": {},
   "outputs": [],
   "source": [
    "res = ar.get()"
   ]
  },
  {
   "cell_type": "code",
   "execution_count": null,
   "metadata": {},
   "outputs": [],
   "source": [
    "import pickle"
   ]
  },
  {
   "cell_type": "code",
   "execution_count": null,
   "metadata": {},
   "outputs": [],
   "source": [
    "f = open(\"/home/srodriguez/res_mats/_fi8WBRTb2YBKIThRqiIekRwmlY=15.pkl\",\"rb\")\n",
    "det_ejemplo = pickle.load(f)"
   ]
  },
  {
   "cell_type": "code",
   "execution_count": null,
   "metadata": {},
   "outputs": [],
   "source": [
    "det_ejemplo[0]"
   ]
  },
  {
   "cell_type": "code",
   "execution_count": null,
   "metadata": {},
   "outputs": [],
   "source": []
  }
 ],
 "metadata": {
  "kernelspec": {
   "display_name": "Python 3",
   "language": "python",
   "name": "python3"
  },
  "language_info": {
   "codemirror_mode": {
    "name": "ipython",
    "version": 3
   },
   "file_extension": ".py",
   "mimetype": "text/x-python",
   "name": "python",
   "nbconvert_exporter": "python",
   "pygments_lexer": "ipython3",
   "version": "3.6.7"
  }
 },
 "nbformat": 4,
 "nbformat_minor": 2
}
