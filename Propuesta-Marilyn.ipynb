{
 "cells": [
  {
   "cell_type": "code",
   "execution_count": 1,
   "metadata": {},
   "outputs": [],
   "source": [
    "import numpy as np\n",
    "from tqdm import tqdm_notebook\n",
    "import itertools\n",
    "\n",
    "N = 20 ## Cambiar lectura de matriz\n",
    "k = N-1\n",
    "covmat = np.random.rand(N,N) #Aca corresponde ingresar la matriz de covarianzas ya calculada\n",
    "covmat[[range(0,N)],[range(0,N)]] = 1 #Esta linea esta demas, eliminar cuando se vea como recibir la matriz desde matlab\n",
    "arr = list(range(0,N)) #Arreglo para generar las mascaras de las submatrices cuadradas"
   ]
  },
  {
   "cell_type": "code",
   "execution_count": 2,
   "metadata": {},
   "outputs": [
    {
     "data": {
      "text/plain": [
       "array([[1.00000000e+00, 6.76664913e-01, 9.04095981e-01, 6.48070656e-01,\n",
       "        2.56875742e-01, 9.66207519e-01, 1.80357954e-02, 3.94327195e-01,\n",
       "        8.96267471e-01, 8.83892246e-01, 1.98004183e-01, 5.81732495e-01,\n",
       "        5.27905957e-01, 5.74025502e-01, 8.53021925e-02, 3.73014425e-01,\n",
       "        8.27988828e-01, 7.46751376e-01, 5.18822227e-01, 1.01983740e-01],\n",
       "       [6.99108471e-01, 1.00000000e+00, 9.82291393e-01, 6.15210894e-01,\n",
       "        9.83748885e-01, 2.41365043e-01, 7.06051838e-01, 4.83938121e-01,\n",
       "        5.69519423e-01, 3.84632202e-01, 6.43775063e-01, 5.52688842e-01,\n",
       "        2.89394031e-01, 7.41643930e-01, 2.53529477e-01, 3.13701375e-01,\n",
       "        5.56966913e-01, 5.31633009e-01, 9.32614665e-01, 4.28674254e-01],\n",
       "       [7.09669853e-01, 1.38778439e-01, 1.00000000e+00, 7.35250932e-01,\n",
       "        6.55942335e-01, 8.15533486e-02, 9.96824935e-01, 5.13452220e-01,\n",
       "        8.78144457e-01, 8.09211155e-01, 3.92173093e-03, 8.52098949e-01,\n",
       "        7.22508031e-04, 6.31479911e-01, 1.03797504e-01, 9.20389725e-02,\n",
       "        3.58328915e-01, 5.27635119e-01, 9.33426683e-01, 1.25724538e-01],\n",
       "       [6.11240469e-01, 3.95690740e-01, 8.22470838e-01, 1.00000000e+00,\n",
       "        3.57377816e-01, 3.38491500e-01, 6.70161789e-01, 2.17333613e-01,\n",
       "        6.62242868e-02, 5.98698382e-01, 6.56640876e-02, 8.95063657e-01,\n",
       "        4.11259910e-01, 5.80864268e-01, 6.23025527e-01, 4.42152937e-01,\n",
       "        3.91086492e-01, 4.95411580e-01, 7.49515251e-01, 3.57888061e-02],\n",
       "       [1.07384022e-01, 8.49975589e-01, 3.13293324e-01, 9.56938757e-01,\n",
       "        1.00000000e+00, 5.77505884e-01, 6.25348961e-02, 5.64617789e-01,\n",
       "        8.94203145e-01, 8.71781674e-03, 1.25261336e-01, 4.60204722e-01,\n",
       "        5.63688997e-01, 4.59717768e-01, 9.09846100e-01, 3.48249736e-01,\n",
       "        1.44384205e-02, 6.98917675e-01, 3.35769322e-01, 6.60008271e-01],\n",
       "       [3.72655680e-01, 2.08157845e-01, 4.02250639e-01, 6.57248600e-01,\n",
       "        8.40145411e-01, 1.00000000e+00, 6.91101531e-01, 5.20955866e-01,\n",
       "        8.66880278e-01, 8.15705218e-01, 5.31787905e-01, 2.07526562e-01,\n",
       "        2.05265375e-01, 9.86682815e-01, 7.26438328e-01, 8.74376689e-01,\n",
       "        7.12523708e-01, 4.49917348e-01, 7.50630431e-01, 1.34739170e-01],\n",
       "       [1.62139002e-01, 5.31022307e-01, 2.02394354e-01, 4.38688020e-01,\n",
       "        6.16734490e-01, 1.52801227e-01, 1.00000000e+00, 2.73459127e-01,\n",
       "        7.87473114e-01, 2.34951647e-01, 9.31047510e-01, 1.83041968e-02,\n",
       "        3.42659392e-01, 6.35346654e-02, 7.42963752e-01, 6.95651528e-01,\n",
       "        8.77204072e-01, 3.27252103e-01, 5.45125220e-01, 2.48174756e-01],\n",
       "       [2.39413707e-01, 3.14341168e-01, 9.83067977e-01, 3.80365789e-01,\n",
       "        1.58529101e-02, 4.89352849e-01, 8.75223764e-02, 1.00000000e+00,\n",
       "        2.38174415e-01, 7.22551729e-01, 6.75850112e-01, 9.67880946e-01,\n",
       "        8.04679134e-01, 6.74785572e-03, 7.61436840e-01, 6.99439977e-01,\n",
       "        7.35731299e-01, 4.28191371e-01, 8.38001131e-01, 5.61303903e-01],\n",
       "       [3.72758288e-01, 4.44928736e-01, 1.42734803e-01, 6.00634293e-01,\n",
       "        2.75231500e-01, 8.94221161e-01, 8.73266850e-01, 8.40622131e-01,\n",
       "        1.00000000e+00, 8.43400418e-01, 8.24858545e-01, 3.86492761e-01,\n",
       "        4.40007446e-01, 3.20476460e-01, 7.53556323e-02, 8.97280376e-01,\n",
       "        6.33508476e-01, 2.50315894e-01, 6.45482608e-01, 8.78392213e-01],\n",
       "       [8.24356916e-01, 1.66794907e-01, 8.19513152e-01, 3.55341369e-01,\n",
       "        9.09507636e-01, 8.67403084e-01, 8.83374692e-01, 7.69835743e-01,\n",
       "        2.16693344e-01, 1.00000000e+00, 9.67390471e-01, 7.06083770e-01,\n",
       "        4.70625675e-01, 4.64364483e-01, 5.74794633e-01, 4.64362617e-01,\n",
       "        6.19143553e-01, 2.59183892e-01, 5.01790839e-01, 4.33813880e-01],\n",
       "       [5.28863038e-02, 7.68694441e-01, 2.22046317e-01, 1.57117098e-02,\n",
       "        2.33032530e-01, 1.70675609e-01, 8.27437539e-01, 9.51100090e-01,\n",
       "        2.32795381e-01, 4.70582298e-01, 1.00000000e+00, 4.18908952e-01,\n",
       "        8.69559646e-01, 4.53501963e-01, 1.60522655e-01, 6.12229265e-01,\n",
       "        1.06226400e-01, 8.78237085e-01, 5.96014545e-01, 5.38323125e-01],\n",
       "       [3.92304680e-01, 4.72309274e-01, 9.16206531e-01, 4.33848908e-01,\n",
       "        2.42182738e-01, 4.28047088e-01, 8.74305307e-01, 1.64365733e-01,\n",
       "        2.80479032e-01, 1.91262817e-01, 9.39041132e-02, 1.00000000e+00,\n",
       "        4.32958252e-02, 7.43983616e-01, 1.90894877e-01, 1.49100699e-01,\n",
       "        2.04511780e-01, 2.87734993e-01, 5.18328336e-01, 4.85920364e-01],\n",
       "       [8.09565137e-01, 1.86989267e-01, 4.77931999e-01, 3.41682968e-01,\n",
       "        8.37698232e-01, 1.84109643e-01, 9.00851190e-01, 6.67859440e-01,\n",
       "        6.50906835e-01, 3.67310743e-01, 6.57396195e-02, 2.22922538e-01,\n",
       "        1.00000000e+00, 3.16114823e-01, 6.18953801e-01, 3.61891927e-01,\n",
       "        5.81720764e-01, 1.22517814e-01, 1.38345922e-01, 8.17124551e-01],\n",
       "       [1.42434528e-02, 7.94745133e-02, 7.56938470e-01, 1.00311510e-01,\n",
       "        9.42601917e-01, 9.12880748e-01, 2.82310300e-03, 8.74084682e-01,\n",
       "        6.12708927e-01, 1.55194650e-01, 9.01416514e-01, 8.00235950e-01,\n",
       "        5.53103479e-01, 1.00000000e+00, 9.41610157e-01, 6.45774895e-01,\n",
       "        6.26383731e-01, 9.26264520e-01, 9.23023015e-01, 2.59438671e-02],\n",
       "       [4.10869471e-01, 4.08275883e-01, 7.43620427e-01, 1.16521328e-01,\n",
       "        7.28591985e-01, 9.27265418e-01, 7.57633984e-01, 4.47263442e-01,\n",
       "        6.57910455e-01, 9.86472409e-01, 6.18107831e-01, 3.45213873e-01,\n",
       "        8.64213766e-01, 4.19663892e-01, 1.00000000e+00, 4.36026939e-01,\n",
       "        6.70683482e-01, 2.99011252e-01, 2.94146794e-01, 2.84877598e-01],\n",
       "       [7.37869025e-01, 5.81241892e-01, 3.72107312e-01, 7.13397651e-01,\n",
       "        3.18793022e-01, 4.82018951e-01, 9.96024386e-01, 3.55155646e-01,\n",
       "        3.48931034e-02, 8.45002889e-01, 4.21653318e-01, 5.49624125e-01,\n",
       "        9.41716560e-01, 9.80750585e-01, 4.55524720e-01, 1.00000000e+00,\n",
       "        9.97050788e-01, 4.12338826e-01, 5.65287693e-01, 7.53078752e-01],\n",
       "       [8.69682070e-01, 5.94538962e-01, 2.74005356e-01, 3.74217656e-01,\n",
       "        2.96534473e-01, 2.72030743e-01, 9.07725091e-01, 1.41270192e-01,\n",
       "        6.54269870e-01, 6.16218165e-01, 6.45747780e-01, 8.09348860e-01,\n",
       "        8.60772096e-01, 5.75433345e-02, 7.04174670e-01, 4.98776521e-01,\n",
       "        1.00000000e+00, 2.57410453e-01, 3.89865447e-01, 1.23316385e-01],\n",
       "       [1.92539431e-01, 3.10687375e-01, 9.94988646e-01, 8.21214975e-01,\n",
       "        2.11539163e-01, 1.61206613e-01, 9.38456492e-01, 1.13973969e-01,\n",
       "        3.22102988e-01, 1.53290189e-01, 3.61462444e-01, 7.58659960e-01,\n",
       "        9.21550560e-01, 6.03875154e-01, 7.34902249e-01, 6.51263443e-01,\n",
       "        9.98348863e-02, 1.00000000e+00, 7.33788112e-01, 9.22520355e-01],\n",
       "       [3.94967675e-01, 1.01524378e-01, 7.36564393e-01, 4.12547016e-01,\n",
       "        5.82468891e-01, 2.82018817e-01, 2.00448727e-01, 9.78353370e-01,\n",
       "        5.82082170e-01, 7.37142670e-02, 3.05019312e-01, 8.17129065e-02,\n",
       "        7.49138947e-01, 1.15117537e-01, 2.28717716e-01, 8.52311462e-01,\n",
       "        4.56101895e-02, 3.26356518e-01, 1.00000000e+00, 4.17818511e-01],\n",
       "       [2.41971357e-02, 9.33134686e-02, 1.15334795e-01, 1.81507265e-01,\n",
       "        9.29914965e-01, 7.96000571e-01, 4.17660067e-01, 3.12248126e-01,\n",
       "        6.80999699e-01, 6.74286570e-01, 2.79110356e-01, 3.27316743e-01,\n",
       "        9.98715232e-02, 9.91607838e-01, 9.60742416e-01, 4.36841208e-01,\n",
       "        9.37420446e-01, 8.44089098e-01, 4.93593404e-01, 1.00000000e+00]])"
      ]
     },
     "execution_count": 2,
     "metadata": {},
     "output_type": "execute_result"
    }
   ],
   "source": [
    "covmat"
   ]
  },
  {
   "cell_type": "code",
   "execution_count": 3,
   "metadata": {},
   "outputs": [
    {
     "ename": "TimeoutError",
     "evalue": "Hub connection request timed out",
     "output_type": "error",
     "traceback": [
      "\u001b[0;31m---------------------------------------------------------------------------\u001b[0m",
      "\u001b[0;31mTimeoutError\u001b[0m                              Traceback (most recent call last)",
      "\u001b[0;32m<ipython-input-3-87df28c73275>\u001b[0m in \u001b[0;36m<module>\u001b[0;34m\u001b[0m\n\u001b[1;32m      1\u001b[0m \u001b[0;32mfrom\u001b[0m \u001b[0mipyparallel\u001b[0m \u001b[0;32mimport\u001b[0m \u001b[0mClient\u001b[0m\u001b[0;34m\u001b[0m\u001b[0;34m\u001b[0m\u001b[0m\n\u001b[0;32m----> 2\u001b[0;31m \u001b[0mrc\u001b[0m \u001b[0;34m=\u001b[0m \u001b[0mClient\u001b[0m\u001b[0;34m(\u001b[0m\u001b[0mprofile\u001b[0m\u001b[0;34m=\u001b[0m\u001b[0;34m'pucv-cluster'\u001b[0m\u001b[0;34m)\u001b[0m \u001b[0;31m#Cambiar por cluster brincolab\u001b[0m\u001b[0;34m\u001b[0m\u001b[0;34m\u001b[0m\u001b[0m\n\u001b[0m\u001b[1;32m      3\u001b[0m \u001b[0mrc\u001b[0m\u001b[0;34m.\u001b[0m\u001b[0mpurge_everything\u001b[0m\u001b[0;34m(\u001b[0m\u001b[0;34m)\u001b[0m  \u001b[0;31m#Limpiar la sesion\u001b[0m\u001b[0;34m\u001b[0m\u001b[0;34m\u001b[0m\u001b[0m\n",
      "\u001b[0;32m~/miniconda/envs/jupyterhub/lib/python3.6/site-packages/ipyparallel/client/client.py\u001b[0m in \u001b[0;36m__init__\u001b[0;34m(self, url_file, profile, profile_dir, ipython_dir, context, debug, sshserver, sshkey, password, paramiko, timeout, cluster_id, **extra_args)\u001b[0m\n\u001b[1;32m    510\u001b[0m \u001b[0;34m\u001b[0m\u001b[0m\n\u001b[1;32m    511\u001b[0m         \u001b[0;32mtry\u001b[0m\u001b[0;34m:\u001b[0m\u001b[0;34m\u001b[0m\u001b[0;34m\u001b[0m\u001b[0m\n\u001b[0;32m--> 512\u001b[0;31m             \u001b[0mself\u001b[0m\u001b[0;34m.\u001b[0m\u001b[0m_connect\u001b[0m\u001b[0;34m(\u001b[0m\u001b[0msshserver\u001b[0m\u001b[0;34m,\u001b[0m \u001b[0mssh_kwargs\u001b[0m\u001b[0;34m,\u001b[0m \u001b[0mtimeout\u001b[0m\u001b[0;34m)\u001b[0m\u001b[0;34m\u001b[0m\u001b[0;34m\u001b[0m\u001b[0m\n\u001b[0m\u001b[1;32m    513\u001b[0m         \u001b[0;32mexcept\u001b[0m\u001b[0;34m:\u001b[0m\u001b[0;34m\u001b[0m\u001b[0;34m\u001b[0m\u001b[0m\n\u001b[1;32m    514\u001b[0m             \u001b[0mself\u001b[0m\u001b[0;34m.\u001b[0m\u001b[0mclose\u001b[0m\u001b[0;34m(\u001b[0m\u001b[0mlinger\u001b[0m\u001b[0;34m=\u001b[0m\u001b[0;36m0\u001b[0m\u001b[0;34m)\u001b[0m\u001b[0;34m\u001b[0m\u001b[0;34m\u001b[0m\u001b[0m\n",
      "\u001b[0;32m~/miniconda/envs/jupyterhub/lib/python3.6/site-packages/ipyparallel/client/client.py\u001b[0m in \u001b[0;36m_connect\u001b[0;34m(self, sshserver, ssh_kwargs, timeout)\u001b[0m\n\u001b[1;32m    629\u001b[0m         \u001b[0mevts\u001b[0m \u001b[0;34m=\u001b[0m \u001b[0mpoller\u001b[0m\u001b[0;34m.\u001b[0m\u001b[0mpoll\u001b[0m\u001b[0;34m(\u001b[0m\u001b[0mtimeout\u001b[0m\u001b[0;34m*\u001b[0m\u001b[0;36m1000\u001b[0m\u001b[0;34m)\u001b[0m\u001b[0;34m\u001b[0m\u001b[0;34m\u001b[0m\u001b[0m\n\u001b[1;32m    630\u001b[0m         \u001b[0;32mif\u001b[0m \u001b[0;32mnot\u001b[0m \u001b[0mevts\u001b[0m\u001b[0;34m:\u001b[0m\u001b[0;34m\u001b[0m\u001b[0;34m\u001b[0m\u001b[0m\n\u001b[0;32m--> 631\u001b[0;31m             \u001b[0;32mraise\u001b[0m \u001b[0merror\u001b[0m\u001b[0;34m.\u001b[0m\u001b[0mTimeoutError\u001b[0m\u001b[0;34m(\u001b[0m\u001b[0;34m\"Hub connection request timed out\"\u001b[0m\u001b[0;34m)\u001b[0m\u001b[0;34m\u001b[0m\u001b[0;34m\u001b[0m\u001b[0m\n\u001b[0m\u001b[1;32m    632\u001b[0m         \u001b[0midents\u001b[0m\u001b[0;34m,\u001b[0m \u001b[0mmsg\u001b[0m \u001b[0;34m=\u001b[0m \u001b[0mself\u001b[0m\u001b[0;34m.\u001b[0m\u001b[0msession\u001b[0m\u001b[0;34m.\u001b[0m\u001b[0mrecv\u001b[0m\u001b[0;34m(\u001b[0m\u001b[0mself\u001b[0m\u001b[0;34m.\u001b[0m\u001b[0m_query_socket\u001b[0m\u001b[0;34m,\u001b[0m \u001b[0mmode\u001b[0m\u001b[0;34m=\u001b[0m\u001b[0;36m0\u001b[0m\u001b[0;34m)\u001b[0m\u001b[0;34m\u001b[0m\u001b[0;34m\u001b[0m\u001b[0m\n\u001b[1;32m    633\u001b[0m         \u001b[0;32mif\u001b[0m \u001b[0mself\u001b[0m\u001b[0;34m.\u001b[0m\u001b[0mdebug\u001b[0m\u001b[0;34m:\u001b[0m\u001b[0;34m\u001b[0m\u001b[0;34m\u001b[0m\u001b[0m\n",
      "\u001b[0;31mTimeoutError\u001b[0m: Hub connection request timed out"
     ]
    }
   ],
   "source": [
    "from ipyparallel import Client\n",
    "rc = Client(profile='pucv-cluster') #Cambiar por cluster brincolab\n",
    "rc.purge_everything()  #Limpiar la sesion"
   ]
  },
  {
   "cell_type": "code",
   "execution_count": null,
   "metadata": {},
   "outputs": [],
   "source": [
    "dview = rc[:] # use all engines"
   ]
  },
  {
   "cell_type": "code",
   "execution_count": null,
   "metadata": {},
   "outputs": [],
   "source": [
    "dview['covmat'] = covmat #Distribuimos la matriz de covarianza"
   ]
  },
  {
   "cell_type": "code",
   "execution_count": 6,
   "metadata": {},
   "outputs": [],
   "source": [
    "dview.block = True #Modo block"
   ]
  },
  {
   "cell_type": "code",
   "execution_count": 7,
   "metadata": {},
   "outputs": [
    {
     "name": "stdout",
     "output_type": "stream",
     "text": [
      "2 190 4\n",
      "3 1140 20\n",
      "4 4845 84\n",
      "5 15504 268\n",
      "6 38760 669\n",
      "7 77520 1337\n",
      "8 125970 2172\n",
      "9 167960 2896\n",
      "10 184756 3186\n",
      "11 167960 2896\n",
      "12 125970 2172\n",
      "13 77520 1337\n",
      "14 38760 669\n",
      "15 15504 268\n",
      "16 4845 84\n",
      "17 1140 20\n",
      "18 190 4\n",
      "19 20 1\n"
     ]
    }
   ],
   "source": [
    "from math import factorial, ceil\n",
    "from itertools import islice, chain\n",
    "\n",
    "def batch(iterable, size):\n",
    "    sourceiter = iter(iterable)\n",
    "    while True:\n",
    "        batchiter = islice(sourceiter, size)\n",
    "        yield chain([next(batchiter)], batchiter)\n",
    "\n",
    "iteraciones = {}\n",
    "det_calcular = {}\n",
    "indices_scatter = {}\n",
    "for i in range(2,N):\n",
    "    iteraciones[i] = itertools.combinations(arr, i)\n",
    "    iters = itertools.combinations(arr, i)\n",
    "    n = int(factorial(N) / factorial(i) / factorial(N-i))\n",
    "    n_per_process = ceil(int(n)/len(rc.ids) )\n",
    "    print(i, n, n_per_process)\n",
    "    det_calcular[i] = (n,n_per_process)\n",
    "    indexes = []\n",
    "    for j in range(0,n,n_per_process):\n",
    "        sl = islice(iters, j , j + n_per_process )\n",
    "        indexes.append(sl)\n",
    "    \"\"\"batchiter = batch(iteraciones[i], int(ceil(n/len(rc.ids))))\n",
    "    for j in range(len(rc.ids)):\n",
    "        indexes.append(next(batchiter))\"\"\"\n",
    "        \n",
    "    indices_scatter[i] = indexes"
   ]
  },
  {
   "cell_type": "code",
   "execution_count": 8,
   "metadata": {},
   "outputs": [
    {
     "name": "stdout",
     "output_type": "stream",
     "text": [
      "190 4\n"
     ]
    }
   ],
   "source": [
    "n = int(factorial(N) / factorial(2) / factorial(N-2))\n",
    "n_per_process = ceil(int(n)/len(rc.ids))\n",
    "print(n,n_per_process)\n",
    "iters = itertools.combinations(arr, 2)\n",
    "indexes = []\n",
    "for i in range(0,190,4):\n",
    "    sl = islice(iters,0,4)\n",
    "    indexes.append(sl)"
   ]
  },
  {
   "cell_type": "code",
   "execution_count": 9,
   "metadata": {},
   "outputs": [
    {
     "data": {
      "text/plain": [
       "48"
      ]
     },
     "execution_count": 9,
     "metadata": {},
     "output_type": "execute_result"
    }
   ],
   "source": [
    "len(indexes)"
   ]
  },
  {
   "cell_type": "code",
   "execution_count": 10,
   "metadata": {},
   "outputs": [
    {
     "data": {
      "text/plain": [
       "'i = 0\\nj = 0\\nfor el in indices_scatter[2]:\\n    print(el)\\n    for subel in el:\\n        print(subel)\\n        j+=1\\n    print(\"=====\")\\n    i+=1\\ni,j'"
      ]
     },
     "execution_count": 10,
     "metadata": {},
     "output_type": "execute_result"
    }
   ],
   "source": [
    "\"\"\"i = 0\n",
    "j = 0\n",
    "for el in indices_scatter[2]:\n",
    "    print(el)\n",
    "    for subel in el:\n",
    "        print(subel)\n",
    "        j+=1\n",
    "    print(\"=====\")\n",
    "    i+=1\n",
    "i,j\"\"\""
   ]
  },
  {
   "cell_type": "code",
   "execution_count": 11,
   "metadata": {},
   "outputs": [
    {
     "data": {
      "text/plain": [
       "[<itertools.islice at 0x7f8f50dd1098>,\n",
       " <itertools.islice at 0x7f8f50dd1138>,\n",
       " <itertools.islice at 0x7f8f50dd1e58>,\n",
       " <itertools.islice at 0x7f8f50dd1d18>,\n",
       " <itertools.islice at 0x7f8f50dd1bd8>,\n",
       " <itertools.islice at 0x7f8f50dd1a98>,\n",
       " <itertools.islice at 0x7f8f50dd1958>,\n",
       " <itertools.islice at 0x7f8f50dd1818>,\n",
       " <itertools.islice at 0x7f8f50dd16d8>,\n",
       " <itertools.islice at 0x7f8f50dd1598>,\n",
       " <itertools.islice at 0x7f8f50dd1458>,\n",
       " <itertools.islice at 0x7f8f50dd1318>,\n",
       " <itertools.islice at 0x7f8f50d95ea8>,\n",
       " <itertools.islice at 0x7f8f50d95d68>,\n",
       " <itertools.islice at 0x7f8f50d95c28>,\n",
       " <itertools.islice at 0x7f8f50d95ae8>,\n",
       " <itertools.islice at 0x7f8f50d959a8>,\n",
       " <itertools.islice at 0x7f8f50d95868>,\n",
       " <itertools.islice at 0x7f8f50d954a8>,\n",
       " <itertools.islice at 0x7f8f50d95228>,\n",
       " <itertools.islice at 0x7f8f50d950e8>,\n",
       " <itertools.islice at 0x7f8f50d95048>,\n",
       " <itertools.islice at 0x7f8f50d956d8>,\n",
       " <itertools.islice at 0x7f8f50d95728>,\n",
       " <itertools.islice at 0x7f8f50d95778>,\n",
       " <itertools.islice at 0x7f8f518274a8>,\n",
       " <itertools.islice at 0x7f8f51827ea8>,\n",
       " <itertools.islice at 0x7f8fa0bf4868>,\n",
       " <itertools.islice at 0x7f8f50d5f868>,\n",
       " <itertools.islice at 0x7f8f50d5f5e8>,\n",
       " <itertools.islice at 0x7f8f50d5f4a8>,\n",
       " <itertools.islice at 0x7f8f50d5f368>,\n",
       " <itertools.islice at 0x7f8f50d5f228>,\n",
       " <itertools.islice at 0x7f8f50d5f0e8>,\n",
       " <itertools.islice at 0x7f8f50d5fea8>,\n",
       " <itertools.islice at 0x7f8f50d5fe58>,\n",
       " <itertools.islice at 0x7f8f50d5fef8>,\n",
       " <itertools.islice at 0x7f8f50d5f048>,\n",
       " <itertools.islice at 0x7f8f50d5ff48>,\n",
       " <itertools.islice at 0x7f8f50d5f728>,\n",
       " <itertools.islice at 0x7f8f50d5fae8>,\n",
       " <itertools.islice at 0x7f8f50d5ff98>,\n",
       " <itertools.islice at 0x7f8f50d23048>,\n",
       " <itertools.islice at 0x7f8f50d23098>,\n",
       " <itertools.islice at 0x7f8f50d230e8>,\n",
       " <itertools.islice at 0x7f8f50d23138>,\n",
       " <itertools.islice at 0x7f8f50d23188>,\n",
       " <itertools.islice at 0x7f8f50d231d8>]"
      ]
     },
     "execution_count": 11,
     "metadata": {},
     "output_type": "execute_result"
    }
   ],
   "source": [
    "indices_scatter[2]"
   ]
  },
  {
   "cell_type": "code",
   "execution_count": 12,
   "metadata": {},
   "outputs": [],
   "source": [
    "idx = 2\n",
    "iteraciones[idx] = itertools.combinations(arr, idx)\n",
    "n = int(factorial(N) / factorial(idx) / factorial(N-idx))"
   ]
  },
  {
   "cell_type": "code",
   "execution_count": 13,
   "metadata": {},
   "outputs": [],
   "source": [
    "batchiter = batch(iteraciones[idx], int(ceil(n/len(rc.ids))))"
   ]
  },
  {
   "cell_type": "code",
   "execution_count": 14,
   "metadata": {},
   "outputs": [
    {
     "name": "stdout",
     "output_type": "stream",
     "text": [
      "(0, 1)\n",
      "(0, 2)\n",
      "(0, 3)\n",
      "(0, 4)\n"
     ]
    }
   ],
   "source": [
    "it = next(batchiter)\n",
    "for el in it:\n",
    "    print(el)"
   ]
  },
  {
   "cell_type": "code",
   "execution_count": 15,
   "metadata": {},
   "outputs": [
    {
     "name": "stderr",
     "output_type": "stream",
     "text": [
      "/home/srodriguez/miniconda/envs/jupyterhub/lib/python3.6/site-packages/ipykernel_launcher.py:2: DeprecationWarning: generator 'batch' raised StopIteration\n",
      "  \n"
     ]
    },
    {
     "data": {
      "text/plain": [
       "47"
      ]
     },
     "execution_count": 15,
     "metadata": {},
     "output_type": "execute_result"
    }
   ],
   "source": [
    "i = 0\n",
    "for el in batchiter:\n",
    "    #print(el)\n",
    "    i+=1\n",
    "    for sub_el in el:\n",
    "        pass\n",
    "        #print(sub_el)\n",
    "i"
   ]
  },
  {
   "cell_type": "code",
   "execution_count": 16,
   "metadata": {},
   "outputs": [
    {
     "data": {
      "text/plain": [
       "{2: <itertools.combinations at 0x7f8f50d35b88>,\n",
       " 3: <itertools.combinations at 0x7f8f50d23228>,\n",
       " 4: <itertools.combinations at 0x7f8f50d114f8>,\n",
       " 5: <itertools.combinations at 0x7f8f50d15818>,\n",
       " 6: <itertools.combinations at 0x7f8f50d19b38>,\n",
       " 7: <itertools.combinations at 0x7f8f50d17e58>,\n",
       " 8: <itertools.combinations at 0x7f8f50d1c1d8>,\n",
       " 9: <itertools.combinations at 0x7f8f50d22548>,\n",
       " 10: <itertools.combinations at 0x7f8f50d1f8b8>,\n",
       " 11: <itertools.combinations at 0x7f8f50d25c28>,\n",
       " 12: <itertools.combinations at 0x7f8f50d26f48>,\n",
       " 13: <itertools.combinations at 0x7f8f50d282c8>,\n",
       " 14: <itertools.combinations at 0x7f8f50d295e8>,\n",
       " 15: <itertools.combinations at 0x7f8f50d2a908>,\n",
       " 16: <itertools.combinations at 0x7f8f50d2bc28>,\n",
       " 17: <itertools.combinations at 0x7f8f50d2ef48>,\n",
       " 18: <itertools.combinations at 0x7f8f50d31278>,\n",
       " 19: <itertools.combinations at 0x7f8f50d32278>}"
      ]
     },
     "execution_count": 16,
     "metadata": {},
     "output_type": "execute_result"
    }
   ],
   "source": [
    "iteraciones"
   ]
  },
  {
   "cell_type": "code",
   "execution_count": 17,
   "metadata": {},
   "outputs": [
    {
     "name": "stdout",
     "output_type": "stream",
     "text": [
      "importing numpy on engine(s)\n"
     ]
    }
   ],
   "source": [
    "with dview.sync_imports():\n",
    "    import numpy"
   ]
  },
  {
   "cell_type": "code",
   "execution_count": 18,
   "metadata": {},
   "outputs": [],
   "source": [
    "def det(N):\n",
    "    dets = numpy.zeros(N,dtype=numpy.float32)\n",
    "    if len(index_mat) > 0:\n",
    "        idx_mat = index_mat[0]\n",
    "    else:    \n",
    "        return {'dets':[],'matrices':[],'idx':[]}\n",
    "    matrices = []\n",
    "    idxs = []\n",
    "    i=0\n",
    "    for ind in idx_mat:\n",
    "        idx = list(ind)\n",
    "        matrix = covmat[idx][:,idx]\n",
    "        dets[i] = numpy.linalg.det(matrix)\n",
    "        matrices.append(matrix)\n",
    "        idxs.append(idx)\n",
    "        i += 1\n",
    "    return {'dets':dets,'idx':idxs}"
   ]
  },
  {
   "cell_type": "code",
   "execution_count": 19,
   "metadata": {},
   "outputs": [
    {
     "name": "stdout",
     "output_type": "stream",
     "text": [
      "4\n",
      "20\n",
      "84\n",
      "268\n",
      "669\n",
      "1337\n",
      "2172\n",
      "2896\n",
      "3186\n",
      "2896\n",
      "2172\n",
      "1337\n",
      "669\n",
      "268\n",
      "84\n",
      "20\n",
      "4\n",
      "1\n"
     ]
    }
   ],
   "source": [
    "responses = {}\n",
    "for i in range(2,N):\n",
    "    n_dets = det_calcular[i][0]\n",
    "    n_scatters = det_calcular[i][1]\n",
    "    print(n_scatters)\n",
    "    if n_scatters > 0:\n",
    "        dview.scatter('index_mat',indices_scatter[i])\n",
    "        ar = dview.apply_async(det,n_scatters)\n",
    "        ar.wait()\n",
    "        responses[i] = ar.get()\n",
    "#for el in hola2:\n",
    "#    print(el)"
   ]
  },
  {
   "cell_type": "code",
   "execution_count": 26,
   "metadata": {},
   "outputs": [
    {
     "data": {
      "text/plain": [
       "{'dets': array([ 0.01108893, -0.01133634, -0.01925328,  0.0073041 ], dtype=float32),\n",
       " 'idx': [[0, 1, 2, 3, 4, 5, 7, 8, 9, 10, 11, 12, 13, 14, 15, 16, 18, 19],\n",
       "  [0, 1, 2, 3, 4, 5, 7, 8, 9, 10, 11, 12, 13, 14, 15, 17, 18, 19],\n",
       "  [0, 1, 2, 3, 4, 5, 7, 8, 9, 10, 11, 12, 13, 14, 16, 17, 18, 19],\n",
       "  [0, 1, 2, 3, 4, 5, 7, 8, 9, 10, 11, 12, 13, 15, 16, 17, 18, 19]]}"
      ]
     },
     "execution_count": 26,
     "metadata": {},
     "output_type": "execute_result"
    }
   ],
   "source": [
    "responses[18][20]"
   ]
  },
  {
   "cell_type": "code",
   "execution_count": 110,
   "metadata": {},
   "outputs": [
    {
     "data": {
      "text/plain": [
       "array([[1.        , 0.25654559, 0.13967424, 0.69208183, 0.70448127,\n",
       "        0.72790431, 0.11672791, 0.1618712 , 0.00132104, 0.6310362 ,\n",
       "        0.61708706, 0.79560084, 0.7265054 , 0.3064654 , 0.10317961,\n",
       "        0.18111312, 0.22340437, 0.96763108, 0.38655911, 0.71558266],\n",
       "       [0.06756713, 0.60934023, 0.04671566, 1.        , 0.11528469,\n",
       "        0.4180021 , 0.9700888 , 0.36067815, 0.92797974, 0.13077514,\n",
       "        0.38983956, 0.76836828, 0.26476734, 0.49291912, 0.63829914,\n",
       "        0.84259661, 0.81266431, 0.9894883 , 0.55080719, 0.38321195],\n",
       "       [0.26092211, 0.82916397, 0.82238936, 0.07595647, 0.74031538,\n",
       "        0.36701451, 0.37550646, 0.73067131, 1.        , 0.34906704,\n",
       "        0.34865619, 0.38745529, 0.21846439, 0.84449641, 0.47852762,\n",
       "        0.06660899, 0.98370676, 0.03336072, 0.68515861, 0.10193445]])"
      ]
     },
     "execution_count": 110,
     "metadata": {},
     "output_type": "execute_result"
    }
   ],
   "source": [
    "covmat[[0, 3, 8]]"
   ]
  },
  {
   "cell_type": "code",
   "execution_count": 111,
   "metadata": {},
   "outputs": [
    {
     "data": {
      "text/plain": [
       "array([[1.        , 0.69208183, 0.00132104],\n",
       "       [0.06756713, 1.        , 0.92797974],\n",
       "       [0.26092211, 0.07595647, 1.        ]])"
      ]
     },
     "execution_count": 111,
     "metadata": {},
     "output_type": "execute_result"
    }
   ],
   "source": [
    "covmat[[0, 3, 8]][:,[0, 3, 8]]"
   ]
  },
  {
   "cell_type": "code",
   "execution_count": 114,
   "metadata": {},
   "outputs": [
    {
     "name": "stdout",
     "output_type": "stream",
     "text": [
      "-0.32794926646862294\n"
     ]
    }
   ],
   "source": [
    "covmat\n",
    "for el in indices_scatter[19][0]:\n",
    "    idx = list(el)\n",
    "    matrix = covmat[idx][:,idx]\n",
    "    det = np.linalg.det(matrix)\n",
    "    print(det)\n"
   ]
  },
  {
   "cell_type": "code",
   "execution_count": 17,
   "metadata": {},
   "outputs": [],
   "source": [
    "dview.scatter('index_mat',indexes)"
   ]
  },
  {
   "cell_type": "code",
   "execution_count": 18,
   "metadata": {},
   "outputs": [
    {
     "name": "stdout",
     "output_type": "stream",
     "text": [
      "importing numpy on engine(s)\n"
     ]
    }
   ],
   "source": [
    "with dview.sync_imports():\n",
    "    import numpy"
   ]
  },
  {
   "cell_type": "code",
   "execution_count": 19,
   "metadata": {},
   "outputs": [],
   "source": [
    "def det(N):\n",
    "    dets = numpy.zeros(N,dtype=numpy.float32)\n",
    "    #dets = []\n",
    "    idx_mat = index_mat[0]\n",
    "    i  0\n",
    "    for ind in idx_mat:\n",
    "        idx = list(ind)\n",
    "        matrix = covmat[idx][:,idx]\n",
    "        dets[i] = numpy.linalg.det(matrix)\n",
    "        i+=1\n",
    "        #dets.append(numpy.linalg.det(matrix))\n",
    "    return dets"
   ]
  },
  {
   "cell_type": "code",
   "execution_count": 20,
   "metadata": {},
   "outputs": [
    {
     "name": "stdout",
     "output_type": "stream",
     "text": [
      "  58/58 tasks finished after    0 s\n",
      "done\n"
     ]
    }
   ],
   "source": [
    "ar = dview.apply_async(det,int(round(n/len(rc.ids),0)))\n",
    "ar.wait_interactive()"
   ]
  },
  {
   "cell_type": "code",
   "execution_count": 21,
   "metadata": {},
   "outputs": [],
   "source": [
    "res = ar.get()"
   ]
  },
  {
   "cell_type": "code",
   "execution_count": 22,
   "metadata": {},
   "outputs": [
    {
     "data": {
      "text/plain": [
       "array([1.0044738e+13, 1.0049905e+13, 1.0024433e+13, ..., 9.9787242e+12,\n",
       "       1.0000269e+13, 1.0017512e+13], dtype=float32)"
      ]
     },
     "execution_count": 22,
     "metadata": {},
     "output_type": "execute_result"
    }
   ],
   "source": [
    "res[0]"
   ]
  },
  {
   "cell_type": "code",
   "execution_count": 23,
   "metadata": {},
   "outputs": [
    {
     "data": {
      "text/plain": [
       "184730"
      ]
     },
     "execution_count": 23,
     "metadata": {},
     "output_type": "execute_result"
    }
   ],
   "source": [
    "aux = 0\n",
    "for el in res:\n",
    "    aux += len(el)\n",
    "    #aux += len(el)\n",
    "aux"
   ]
  },
  {
   "cell_type": "code",
   "execution_count": 24,
   "metadata": {},
   "outputs": [
    {
     "data": {
      "text/plain": [
       "3131.0"
      ]
     },
     "execution_count": 24,
     "metadata": {},
     "output_type": "execute_result"
    }
   ],
   "source": [
    "round(n/59,0)"
   ]
  },
  {
   "cell_type": "code",
   "execution_count": 25,
   "metadata": {},
   "outputs": [],
   "source": [
    "import numpy as np\n",
    "\n",
    "dets_iterative = np.zeros(int(n))\n",
    "hola = itertools.combinations(arr, sub_mat_n)\n"
   ]
  },
  {
   "cell_type": "code",
   "execution_count": 26,
   "metadata": {},
   "outputs": [
    {
     "data": {
      "application/vnd.jupyter.widget-view+json": {
       "model_id": "fc4eea0c132740b59682822fdbe049de",
       "version_major": 2,
       "version_minor": 0
      },
      "text/plain": [
       "HBox(children=(IntProgress(value=1, bar_style='info', max=1), HTML(value='')))"
      ]
     },
     "metadata": {},
     "output_type": "display_data"
    },
    {
     "name": "stdout",
     "output_type": "stream",
     "text": [
      "\n",
      "CPU times: user 2.73 s, sys: 8 ms, total: 2.74 s\n",
      "Wall time: 2.68 s\n"
     ]
    }
   ],
   "source": [
    "%%time\n",
    "i = 0\n",
    "for ind in tqdm_notebook(hola):\n",
    "    idx = list(ind)\n",
    "    matrix = covmat[idx][:,idx]\n",
    "    dets_iterative[i] = numpy.linalg.det(matrix)\n",
    "    i+=1"
   ]
  },
  {
   "cell_type": "code",
   "execution_count": 27,
   "metadata": {},
   "outputs": [
    {
     "data": {
      "text/plain": [
       "10044737943501.139"
      ]
     },
     "execution_count": 27,
     "metadata": {},
     "output_type": "execute_result"
    }
   ],
   "source": [
    "dets_iterative[0] "
   ]
  },
  {
   "cell_type": "code",
   "execution_count": 28,
   "metadata": {},
   "outputs": [
    {
     "data": {
      "text/plain": [
       "array([1.0044738e+13, 1.0049905e+13, 1.0024433e+13, ..., 9.9787242e+12,\n",
       "       1.0000269e+13, 1.0017512e+13], dtype=float32)"
      ]
     },
     "execution_count": 28,
     "metadata": {},
     "output_type": "execute_result"
    }
   ],
   "source": [
    "res[0]"
   ]
  },
  {
   "cell_type": "code",
   "execution_count": 29,
   "metadata": {},
   "outputs": [
    {
     "data": {
      "text/plain": [
       "{'msg_id': 'be9b831b-8ce25841d44a16ddfeb4744d',\n",
       " 'submitted': datetime.datetime(2019, 6, 27, 4, 41, 58, 740593, tzinfo=tzutc()),\n",
       " 'started': datetime.datetime(2019, 6, 27, 4, 41, 58, 777728, tzinfo=tzutc()),\n",
       " 'completed': datetime.datetime(2019, 6, 27, 4, 41, 59, 91251, tzinfo=tzutc()),\n",
       " 'received': datetime.datetime(2019, 6, 27, 4, 41, 59, 94022, tzinfo=tzutc()),\n",
       " 'engine_uuid': 'd16c4110-ea35da15a55c6acfd3b52c03',\n",
       " 'engine_id': 0,\n",
       " 'follow': [],\n",
       " 'after': [],\n",
       " 'status': 'ok',\n",
       " 'execute_input': None,\n",
       " 'execute_result': None,\n",
       " 'error': None,\n",
       " 'stdout': '',\n",
       " 'stderr': '',\n",
       " 'outputs': [],\n",
       " 'data': {}}"
      ]
     },
     "execution_count": 29,
     "metadata": {},
     "output_type": "execute_result"
    }
   ],
   "source": [
    "ar.metadata[0]"
   ]
  },
  {
   "cell_type": "code",
   "execution_count": null,
   "metadata": {},
   "outputs": [],
   "source": []
  }
 ],
 "metadata": {
  "kernelspec": {
   "display_name": "Python 3",
   "language": "python",
   "name": "python3"
  },
  "language_info": {
   "codemirror_mode": {
    "name": "ipython",
    "version": 3
   },
   "file_extension": ".py",
   "mimetype": "text/x-python",
   "name": "python",
   "nbconvert_exporter": "python",
   "pygments_lexer": "ipython3",
   "version": "3.6.8"
  }
 },
 "nbformat": 4,
 "nbformat_minor": 2
}
